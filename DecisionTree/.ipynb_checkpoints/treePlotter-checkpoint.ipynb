{
 "cells": [
  {
   "cell_type": "code",
   "execution_count": 1,
   "metadata": {
    "collapsed": true
   },
   "outputs": [],
   "source": [
    "#!/usr/bin/python\n",
    "# coding:utf8\n",
    "import matplotlib.pyplot as plt"
   ]
  },
  {
   "cell_type": "code",
   "execution_count": 2,
   "metadata": {
    "collapsed": true
   },
   "outputs": [],
   "source": [
    "#使用文本注解绘制树节点 \n",
    "#包含了边框的类型，边框线的粗细等 \n",
    "# boxstyle为文本框的类型，sawtooth是锯齿形，fc是边框线粗细 ,pad指的是外边框锯齿形（圆形等）的大小  \n",
    "decisionNode = dict(boxstyle = \"sawtooth\", fc = \"0.8\", pad = 1)\n",
    "# 定义决策树的叶子结点的描述属性 round4表示圆形 \n",
    "leafNode = dict(boxstyle = \"round4\", fc = \"0.8\", pad = 1)\n",
    "arrow_args = dict(arrowstyle = \"<-\") # 定义箭头属性 "
   ]
  },
  {
   "cell_type": "code",
   "execution_count": 3,
   "metadata": {
    "collapsed": true
   },
   "outputs": [],
   "source": [
    "def plotNode(nodeTxt, centerPt, parentPt, nodeType):\n",
    "    # annotate是关于一个数据点的文本    \n",
    "    # nodeTxt为要显示的文本，centerPt为文本的中心点，箭头所在的点，parentPt为指向文本的点    \n",
    "    # annotate的作用是添加注释，nodetxt是注释的内容，  \n",
    "    # nodetype指的是输入的节点（边框）的形状  \n",
    "    createPlot.ax1.annotate(nodeTxt, xy = parentPt, xycoords = 'axes fraction',\\\n",
    "                           xytext = centerPt, textcoords = 'axes fraction', \\\n",
    "                           va = \"center\", ha = \"center\", bbox = nodeType, arrowprops = arrow_args)"
   ]
  },
  {
   "cell_type": "code",
   "execution_count": 4,
   "metadata": {
    "collapsed": true
   },
   "outputs": [],
   "source": [
    "# def createPlot():\n",
    "   # fig = plt.figure(1, facecolor='white')\n",
    "   # fig.clf()\n",
    "   # createPlot.ax1 = plt.subplot(111, frameon = False)\n",
    "   # plotNode('decision Node', (0.5, 0.1), (0.1, 0.5), decisionNode)\n",
    "   # plotNode('leaf Node', (0.8, 0.1), (0.3, 0.8), leafNode)\n",
    "   # plt.show()"
   ]
  },
  {
   "cell_type": "code",
   "execution_count": 5,
   "metadata": {
    "collapsed": true
   },
   "outputs": [],
   "source": [
    "# 获取叶节点的数目和树的层数\n",
    "def getNumLeafs(myTree):\n",
    "    numLeafs = 0\n",
    "    firstSides = list(myTree.keys())\n",
    "    firstStr = firstSides[0] # 获取tree的根节点对于的key值\n",
    "    # 遇到的问题是mytree.keys()获得的类型是dict_keys，而dict_keys不支持索引，\n",
    "    # 我的解决办法是把获得的dict_keys强制转化为list即可  \n",
    "    secondDict = myTree[firstStr] # 根据键值得到对应的值，即根据第一个特征分类的结果\n",
    "    for key in secondDict.keys(): # 获取第二个小字典中的key  \n",
    "        if type(secondDict[key]).__name__ == 'dict': # type()函数判断子节点是否为字典类型\n",
    "            numLeafs += getNumLeafs(secondDict[key]) # 包含的话进行递归从而继续循环获得新的分支所包含的叶节点的数量  \n",
    "        else:\n",
    "            numLeafs += 1 # 不包含的话就停止迭代并把现在的小字典加一表示这边有一个分支  \n",
    "    return numLeafs"
   ]
  },
  {
   "cell_type": "code",
   "execution_count": 6,
   "metadata": {
    "collapsed": true
   },
   "outputs": [],
   "source": [
    "def getTreeDepth(myTree):\n",
    "    maxDepth = 0\n",
    "    firstSides = list(myTree.keys())\n",
    "    firstStr = firstSides[0] # 获取tree的根节点对于的key值\n",
    "    secondDict = myTree[firstStr]\n",
    "    for key in secondDict.keys():\n",
    "        if type(secondDict[key]).__name__ == 'dict':\n",
    "            thisDepth = 1 + getTreeDepth(secondDict[key])\n",
    "        else:\n",
    "            thisDepth = 1\n",
    "        if thisDepth > maxDepth:\n",
    "            maxDepth = thisDepth #间隔 间隔得问题一定要多考虑\n",
    "    return maxDepth"
   ]
  },
  {
   "cell_type": "code",
   "execution_count": 7,
   "metadata": {
    "collapsed": true
   },
   "outputs": [],
   "source": [
    "def retrieveTree(i):\n",
    "    listOfTrees = [\n",
    "        {'no surfacing': {0: 'no', 1: {'flippers': {0: 'no', 1: 'yes'}}}},\\\n",
    "        {'no surfacing': {0: 'no', 1: {'flippers': {0: {'head': {0: 'no', 1: 'yes'}}, 1: 'no'}}}}]\n",
    "\n",
    "    return listOfTrees[i]"
   ]
  },
  {
   "cell_type": "code",
   "execution_count": 8,
   "metadata": {
    "collapsed": true
   },
   "outputs": [],
   "source": [
    "# from treePlotter import *\n",
    "# retrieveTree(1)"
   ]
  },
  {
   "cell_type": "code",
   "execution_count": 9,
   "metadata": {
    "collapsed": true
   },
   "outputs": [],
   "source": [
    "# myTree = retrieveTree(0)\n",
    "# getNumLeafs(myTree)\n",
    "# getTreeDepth(myTree)"
   ]
  },
  {
   "cell_type": "code",
   "execution_count": 10,
   "metadata": {
    "collapsed": true
   },
   "outputs": [],
   "source": [
    "# xOff\n",
    "\n",
    "# xOff和yOff用来记录当前要画的叶子结点的位置。\n",
    "# 画布的范围x轴和y轴都是0到1，我们希望所有的叶子结点平均分布在x轴上。totalW记录叶子结点的个数，那么 1/totalW 正好是每个叶子结点的宽度\n",
    "# 如果叶子结点的坐标是 1/totalW , 2/totalW, 3/totalW, …, 1 的话，就正好在宽度的最右边，为了让坐标在宽度的中间，需要减去0.5 / totalW 。\n",
    "# 所以createPlot函数中，初始化 plotTree.xOff 的值为-0.5/plotTree.totalW。这样每次 xOff + 1/totalW ，正好是下1个结点的准确位置\n",
    "\n",
    "# yOff\n",
    "# yOff的初始值为1，每向下递归一次，这个值减去 1 / totalD\n",
    "\n",
    "# cntrPt\n",
    "\n",
    "# cntrPt用来记录当前要画的树的树根的结点位置\n",
    "\n",
    "# 在plotTree函数中，它是这样计算的\n",
    "# cntrPt = (plotTree.xOff + (1.0 + float(numLeafs))/2.0/plotTree.totalW, plotTree.yOff)\n",
    "# numLeafs记录当前的树中叶子结点个数。我们希望树根在这些所有叶子节点的中间。\n",
    "# plotTree.xOff + (1.0 + float(numLeafs))/2.0/plotTree.totalW\n",
    "# 这里的 1.0 + numLeafs 需要拆开来理解，也就是\n",
    "# plotTree.xOff +  float(numLeafs)/2.0/plotTree.totalW +1.0/2.0/plotTree.totalW\n",
    "# plotTree.xOff +  1/2 * float(numLeafs)/plotTree.totalW + 0.5/plotTree.totalW\n",
    "# 因为xOff的初始值是-0.5/plotTree.totalW ，是往左偏了0.5/plotTree.tatalW 的，这里正好加回去。\n",
    "# 这样cntrPt记录的x坐标正好是所有叶子结点的中心点"
   ]
  },
  {
   "cell_type": "code",
   "execution_count": 11,
   "metadata": {
    "collapsed": true
   },
   "outputs": [],
   "source": [
    "# 作用是计算tree的中间位置    \n",
    "# cntrpt起始位置,parentpt终止位置,txtstring：文本标签信息  \n",
    "def plotMidText(cntrPt, parentPt, txtString):\n",
    "    # cntrPt 起点坐标 子节点坐标   parentPt 结束坐标 父节点坐标  \n",
    "    xMid = (parentPt[0] - cntrPt[0])/2.0 + cntrPt[0]\n",
    "    #找到x和y的中间位置  \n",
    "    yMid = (parentPt[1] - cntrPt[1])/2.0 + cntrPt[1]\n",
    "    createPlot.ax1.text(xMid, yMid, txtString)"
   ]
  },
  {
   "cell_type": "code",
   "execution_count": 12,
   "metadata": {
    "collapsed": true
   },
   "outputs": [],
   "source": [
    "def plotTree(myTree, parentPt, nodeTxt):\n",
    "    numLeafs = getNumLeafs(myTree)\n",
    "    depth = getTreeDepth(myTree)\n",
    "    firstSides = list(myTree.keys())\n",
    "    firstStr = firstSides[0] # 获取tree的根节点对于的key值\n",
    "    # 计算子节点的坐标   \n",
    "    cntrPt = (plotTree.xOff + (1.0 + float(numLeafs))/2.0/plotTree.totalW, plotTree.yOff)\n",
    "    plotMidText(cntrPt, parentPt, nodeTxt) # 绘制线上的文字\n",
    "    plotNode(firstStr, cntrPt, parentPt, decisionNode) # 绘制节点\n",
    "    secondDict = myTree[firstStr]\n",
    "    #每绘制一次图，将y的坐标减少1.0/plottree.totald，间接保证y坐标上深度的  \n",
    "    plotTree.yOff = plotTree.yOff - 1.0/plotTree.totalD\n",
    "    for key in secondDict.keys():\n",
    "        if type(secondDict[key]).__name__ == 'dict':\n",
    "            plotTree(secondDict[key], cntrPt, str(key))\n",
    "        else:\n",
    "            plotTree.xOff = plotTree.xOff + 1.0 / plotTree.totalW\n",
    "            plotNode(secondDict[key], (plotTree.xOff, plotTree.yOff), cntrPt, leafNode)\n",
    "            plotMidText((plotTree.xOff, plotTree.yOff), cntrPt, str(key))\n",
    "    plotTree.yOff = plotTree.yOff + 1.0/plotTree.totalD"
   ]
  },
  {
   "cell_type": "code",
   "execution_count": 13,
   "metadata": {
    "collapsed": true
   },
   "outputs": [],
   "source": [
    "# 类似于Matlab的figure，定义一个画布，背景为白色\n",
    "def createPlot(inTree): \n",
    "    fig = plt.figure(1, facecolor='white')\n",
    "    fig.clf()\n",
    "    axprops = dict(xticks = [], yticks = [])\n",
    "    # createPlot.ax1为全局变量，绘制图像的句柄，subplot为定义了一个绘图，111表示figure中的图有1行1列，即1个，最后的1代表第一个图   \n",
    "    createPlot.ax1 = plt.subplot(111, frameon = False, **axprops) # frameon表示是否绘制坐标轴矩形\n",
    "    plotTree.totalW = float(getNumLeafs(inTree))\n",
    "    plotTree.totalD = float(getTreeDepth(inTree))\n",
    "    plotTree.xOff = -0.5/plotTree.totalW\n",
    "    plotTree.yOff = 1.0\n",
    "    plotTree(inTree, (0.5,1.0), '')\n",
    "    plt.show()"
   ]
  },
  {
   "cell_type": "code",
   "execution_count": 2,
   "metadata": {
    "collapsed": true
   },
   "outputs": [],
   "source": [
    "from treePlotter import *"
   ]
  },
  {
   "cell_type": "code",
   "execution_count": 3,
   "metadata": {},
   "outputs": [
    {
     "name": "stdout",
     "output_type": "stream",
     "text": [
      "{'no surfacing': {0: 'no', 1: {'flippers': {0: 'no', 1: 'yes'}}}}\n"
     ]
    }
   ],
   "source": [
    "myTree = retrieveTree(0)\n",
    "print(myTree)"
   ]
  },
  {
   "cell_type": "code",
   "execution_count": 4,
   "metadata": {},
   "outputs": [
    {
     "data": {
      "image/png": "[encoded data removed]",
      "text/plain": [
       "<matplotlib.figure.Figure at 0x10dc5fc88>"
      ]
     },
     "metadata": {},
     "output_type": "display_data"
    }
   ],
   "source": [
    "createPlot(myTree)"
   ]
  },
  {
   "cell_type": "code",
   "execution_count": null,
   "metadata": {
    "collapsed": true
   },
   "outputs": [],
   "source": []
  }
 ],
 "metadata": {
  "kernelspec": {
   "display_name": "Python 3",
   "language": "python",
   "name": "python3"
  },
  "language_info": {
   "codemirror_mode": {
    "name": "ipython",
    "version": 3
   },
   "file_extension": ".py",
   "mimetype": "text/x-python",
   "name": "python",
   "nbconvert_exporter": "python",
   "pygments_lexer": "ipython3",
   "version": "3.6.3"
  }
 },
 "nbformat": 4,
 "nbformat_minor": 2
}
