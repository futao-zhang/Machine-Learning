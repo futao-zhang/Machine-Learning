{
 "cells": [
  {
   "cell_type": "code",
   "execution_count": 10,
   "metadata": {
    "collapsed": true
   },
   "outputs": [],
   "source": [
    "from numpy import *"
   ]
  },
  {
   "cell_type": "code",
   "execution_count": 1,
   "metadata": {
    "collapsed": true
   },
   "outputs": [],
   "source": [
    "def loadDateSet():\n",
    "    postingList = [['my', 'dog', 'has', 'flea', 'problems', 'help', 'please'], \\\n",
    "                   ['maybe', 'not', 'take', 'him', 'to', 'dog', 'park', 'stupid'], \\\n",
    "                   ['my', 'dalmation', 'is', 'so', 'cute', 'I', 'love', 'him'], \\\n",
    "                   ['stop', 'posting', 'stupid', 'worthless', 'garbage'], \\\n",
    "                   ['mr', 'licks', 'ate', 'my', 'steak', 'how', 'to', 'stop', 'him'], \\\n",
    "                   ['quit', 'buying', 'worthless', 'dog', 'food', 'stupid']]\n",
    "    classVec = [0,1,0,1,0,1] #1 代表侮辱性文字，0代表正常言论\n",
    "    return postingList,classVec"
   ]
  },
  {
   "cell_type": "code",
   "execution_count": 2,
   "metadata": {
    "collapsed": true
   },
   "outputs": [],
   "source": [
    "# 获取所有单词的集合\n",
    "def createVocabList(dataSet):\n",
    "    vocabSet = set([]) # 创建一个空的集合\n",
    "    for document in dataSet:\n",
    "        vocabSet = vocabSet | set(document) # 两个合集的并集 \n",
    "    return list(vocabSet)"
   ]
  },
  {
   "cell_type": "code",
   "execution_count": 3,
   "metadata": {
    "collapsed": true
   },
   "outputs": [],
   "source": [
    "# 遍历查看该单词是否出现，出现该单词则将该单词置1\n",
    "def setOfWords2Vec(vocabList, inputSet):\n",
    "    # 创建一个和词汇表等长的向量，并将其元素都设置为0\n",
    "    returnVec = [0] * len(vocabList) # 创建一个其中所含元素都为0的向量\n",
    "    # 遍历文档中的所有单词，如果出现了词汇表中的单词，则将输出的文档向量中的对应值设为1\n",
    "    for word in inputSet:\n",
    "        if word in vocabList:\n",
    "            returnVec[vocabList.index(word)] = 1\n",
    "        else:\n",
    "            print(\"the word: %s is not in my Vocabulary!\" %word)\n",
    "    return returnVec"
   ]
  },
  {
   "cell_type": "code",
   "execution_count": null,
   "metadata": {
    "collapsed": true
   },
   "outputs": [],
   "source": [
    "# 朴素贝叶斯分类器训练函数\n",
    "# param trainMatrix: 文件单词矩阵 [[1,0,1,1,1....],[],[]...]\n",
    "# param trainCategory: 文件对应的类别[0,1,1,0....]，列表长度等于单词矩阵数，\n",
    "# 其中的1代表对应的文件是侮辱性文件，0代表不是侮辱性矩阵\n",
    "def trainNB0(trainMatrix, trainCategory):\n",
    "    numTrainDocs = len(trainMatrix)\n",
    "    numWords = len(trainMatrix[0])\n",
    "    # 侮辱性文件的出现概率，即trainCategory中所有的1的个数，\n",
    "    # 代表的就是多少个侮辱性文件，与文件的总数相除就得到了侮辱性文件的出现概率\n",
    "    pAbusive = sum(trainCategory)/float(numTrainDocs) # 文档中属于侮辱性文档的概率P(1)\n",
    "    # 构造单词出现次数列表 [0,0,0,.....]\n",
    "    # p0Num = zeros(numWords)\n",
    "    # p1Num = zeros(numWords)\n",
    "    p0Num = ones(numWords)\n",
    "    p1Num = ones(numWords)\n",
    "    # 整个数据集单词出现总数\n",
    "    # p0Denom = 0.0\n",
    "    # p1Denom = 0.0\n",
    "    p0Denom = 2.0\n",
    "    p1Denom = 2.0\n",
    "    for i in range(numTrainDocs):\n",
    "        # 是否是侮辱性文件\n",
    "        if trainCategory[i] == 1:\n",
    "            # 如果是侮辱性文件，对侮辱性文件的向量进行加和\n",
    "            p1Num += trainMatrix[i]\n",
    "            # 对向量中的所有元素进行求和，也就是计算所有侮辱性文件中出现的单词总数\n",
    "            p1Denom += sum(trainMatrix[i])\n",
    "        else:\n",
    "            p0Num += trainMatrix[i]\n",
    "            p0Denom += sum(trainMatrix[i])\n",
    "    # 类别1，即侮辱性文档的[P(F1|C1),P(F2|C1),P(F3|C1),P(F4|C1),P(F5|C1)....]列表\n",
    "    # 即 在1类别下，每个单词出现的概率\n",
    "    # p1Vect = p1Num/p1Denom\n",
    "    # 类别0，即正常文档的[P(F1|C0),P(F2|C0),P(F3|C0),P(F4|C0),P(F5|C0)....]列表\n",
    "    # 即 在0类别下，每个单词出现的概率\n",
    "    # p0Vect = p0Num/p0Denom\n",
    "    p1Vect = log(p1Num/p1Denom)\n",
    "    p0Vect = log(p0Num/p0Denom)\n",
    "    return p0Vect,p1Vect,pAbusive"
   ]
  },
  {
   "cell_type": "code",
   "execution_count": 13,
   "metadata": {
    "collapsed": true
   },
   "outputs": [],
   "source": [
    "# vec2Classify: 代表待测数据（即要分类的向量）\n",
    "# p0Vec：类别0对应的单词的概率列表\n",
    "# p1Vec：类别1对应的单词的概率列表\n",
    "# pClass：类别1侮辱性文件的出现概率\n",
    "def classifyNB(vec2Classify, p0Vec, p1Vec, pClass):\n",
    "    # 将乘法转换为加法\n",
    "        # 乘法：P(C|F1F2...Fn) = P(F1F2...Fn|C)P(C)/P(F1F2...Fn)\n",
    "        # 加法：P(F1|C)*P(F2|C)....P(Fn|C)P(C) -> log(P(F1|C))+log(P(F2|C))+....+log(P(Fn|C))+log(P(C))\n",
    "        # 没有计算分母 P(w)， 因为 P(w) 针对的是包含侮辱和非侮辱的全部文档，所以 P(w) 是相同的。\n",
    "        # 使用 NumPy 数组来计算两个向量相乘的结果，这里的相乘是指对应元素相乘，即先将两个向量中的第一个元素相乘，然后将第2个元素相乘，以此类推。\n",
    "        # 我的理解是：这里的 vec2Classify * p1Vec 的意思就是将每个词与其对应的概率相关联起来\n",
    "    p1 = sum(vec2Classify * p1Vec) + log(pClass)\n",
    "    p0 = sum(vec2Classify * p0Vec) + log(1.0 - pClass)\n",
    "    if p1 > p0:\n",
    "        return 1\n",
    "    else:\n",
    "        return 0"
   ]
  },
  {
   "cell_type": "code",
   "execution_count": 22,
   "metadata": {
    "collapsed": true
   },
   "outputs": [],
   "source": [
    "# 测试算法：给定指定的文本，分类句子为侮辱or不是侮辱的语句\n",
    "def testingNB():\n",
    "    # 1. 加载数据集\n",
    "    listOPosts, listClasses = loadDateSet()\n",
    "    # 2. 创建单词集合\n",
    "    myVocabList = createVocabList(listOPosts)\n",
    "    # 3. 计算单词是否出现并创建数据矩阵\n",
    "    trainMat = []\n",
    "    for postinDoc in listOPosts:\n",
    "        # 返回m*len(myVocabList)的矩阵， 记录的都是0，1信息\n",
    "        trainMat.append(setOfWords2Vec(myVocabList, postinDoc))\n",
    "    # 4. 训练数据\n",
    "    p0V, p1V, pAb = trainNB0(array(trainMat), array(listClasses))\n",
    "    # 5. 测试数据\n",
    "    testEntry = ['love', 'my', 'dalmation']\n",
    "    thisDoc = array(setOfWords2Vec(myVocabList, testEntry))\n",
    "    print(testEntry,\"classified as %d\" %(classifyNB(thisDoc, p0V, p1V, pAb)))\n",
    "    testEntry = ['stupid', 'garbage']\n",
    "    thisDoc = array(setOfWords2Vec(myVocabList, testEntry))\n",
    "    print(testEntry,\"classified as %d\" %(classifyNB(thisDoc, p0V, p1V, pAb)))"
   ]
  },
  {
   "cell_type": "code",
   "execution_count": 23,
   "metadata": {},
   "outputs": [
    {
     "data": {
      "text/plain": [
       "<module 'bayes' from '/Users/mac/Desktop/Python学习/机器学习/NaiveBayes/bayes.py'>"
      ]
     },
     "execution_count": 23,
     "metadata": {},
     "output_type": "execute_result"
    }
   ],
   "source": [
    "import importlib\n",
    "importlib.reload(bayes)"
   ]
  },
  {
   "cell_type": "code",
   "execution_count": 24,
   "metadata": {},
   "outputs": [
    {
     "name": "stdout",
     "output_type": "stream",
     "text": [
      "['love', 'my', 'dalmation'] classified as 0\n",
      "['stupid', 'garbage'] classified as 1\n"
     ]
    }
   ],
   "source": [
    "bayes.testingNB()"
   ]
  },
  {
   "cell_type": "code",
   "execution_count": 25,
   "metadata": {
    "collapsed": true
   },
   "outputs": [],
   "source": [
    "# 朴素贝叶斯词袋模型\n",
    "def bagOfWords2VecMN(vocablist, inputSet):\n",
    "    returnVec = [0] * len(vocablist)\n",
    "    for word in inputSet:\n",
    "        if word in vocablist:\n",
    "            returnVec[vocablist.index(word)] += 1\n",
    "    return returnVec"
   ]
  },
  {
   "cell_type": "code",
   "execution_count": 1,
   "metadata": {
    "collapsed": true
   },
   "outputs": [],
   "source": [
    "# 文本解析及完整的垃圾邮件测试函数\n",
    "def textParse(bigString):\n",
    "    import re\n",
    "    # 使用正则表达式来切分句子，其中分隔符是除单词、数字外的任意字符串\n",
    "    listOfTokens = re.split('\\\\W*',bigString)\n",
    "    return [tok.lower() for tok in bigString if len(tok) > 2]\n",
    "\n",
    "def spamTest():\n",
    "    docList = [] # 文本字符串列表\n",
    "    classList = []\n",
    "    fullText = []\n",
    "    # 1. 加载数据集（导入并解析文本数据）\n",
    "    for i in range(1,26):\n",
    "        # 读取文本中的字符串并转换为小写的不加空字符串的列表的形式\n",
    "        # 添加分类为1的文本\n",
    "        # 切分，解析数据，并归类为 1 类别\n",
    "        wordList = textParse(open('email/spam/%d.txt' %i).read())\n",
    "        docList.append(wordList)\n",
    "        fullText.extend(wordList)\n",
    "        classList.append(1)\n",
    "        # 添加分类为0的文本\n",
    "        # 切分，解析数据，并归类为 0 类别\n",
    "        wordList = textParse(open('email/ham/%d.txt' %i).read())\n",
    "        docList.append(wordList)\n",
    "        fullText.extend(wordList)\n",
    "        classList.append(0)\n",
    "    # 2. 创建单词集合\n",
    "    vocabList = createVocabList(docList)\n",
    "    # 随机构建训练集\n",
    "    traingingSet = range(50)\n",
    "    testSet = []\n",
    "    # 随机取 10 个邮件用来测试\n",
    "    # 选择出的数字所对应的文档被添加到测试集，同时也将其从训练集删除\n",
    "    # 这种随机选择一部分作为训练集，而剩余部分作为测试集的过程称为留存交叉验证\n",
    "    for i in range(10):\n",
    "        randIndex = int(random.uniform(0,len(trainingSet)))\n",
    "        testSet.append(traingingSet[randIndex])\n",
    "        del(traingingSet[index])\n",
    "    # 3. 计算单词是否出现并创建数据矩阵\n",
    "    trainMat = []\n",
    "    trainClasses = []\n",
    "    for docIndex in traingingSet:\n",
    "        trainMat.append(setOfWords2Vec(vocabList, docList[docIndex]))\n",
    "        trainClasses.append(classList[docIndex])\n",
    "    # 4. 训练数据\n",
    "    p0V, p1V, pSpam = trainNB0(array(trainMat), array(trainClasses))\n",
    "    # 5. 测试数据并计算误差\n",
    "    errorCount = 0\n",
    "    for docIndex in testSet:\n",
    "        wordVector = setOfWords2Vec(vocabList, docList[docIndex])\n",
    "        if classifyNB(array(wordVector), p0V, p1V, pSpam) != classList[docIndex]:\n",
    "            errorCount += 1\n",
    "    print('the error rate is %0.2f' %float(errorCount/len(testSet)))"
   ]
  },
  {
   "cell_type": "code",
   "execution_count": null,
   "metadata": {
    "collapsed": true
   },
   "outputs": [],
   "source": []
  }
 ],
 "metadata": {
  "kernelspec": {
   "display_name": "Python 3",
   "language": "python",
   "name": "python3"
  },
  "language_info": {
   "codemirror_mode": {
    "name": "ipython",
    "version": 3
   },
   "file_extension": ".py",
   "mimetype": "text/x-python",
   "name": "python",
   "nbconvert_exporter": "python",
   "pygments_lexer": "ipython3",
   "version": "3.6.3"
  }
 },
 "nbformat": 4,
 "nbformat_minor": 2
}
